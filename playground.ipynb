{
  "cells": [
    {
      "cell_type": "markdown",
      "metadata": {
        "id": "9STXm7BIB03T"
      },
      "source": [
        "# Fundamentals of Deep Learning -  Playground"
      ]
    },
    {
      "cell_type": "markdown",
      "metadata": {
        "id": "Wox_KPPeB03U"
      },
      "source": [
        "🧠 Welcome to this module of Deep Learning!\n",
        "\n",
        "🎯 In this challenge, our goal is two-fold:\n",
        "1. Get a visual representation of Neural Networks\n",
        "2. Build a better intuition of what Neural Networks are doing\n",
        "\n",
        "👉 We will use ***[Tensorflow Playground](https://playground.tensorflow.org/)***\n",
        "\n",
        "_(This first challenge does not require much coding_)"
      ]
    },
    {
      "cell_type": "markdown",
      "metadata": {
        "id": "UrM07FQLB03V"
      },
      "source": [
        "## Classification in Deep Learning"
      ]
    },
    {
      "cell_type": "markdown",
      "metadata": {
        "id": "--LqYz5pB03V"
      },
      "source": [
        "### (1) The data"
      ]
    },
    {
      "cell_type": "markdown",
      "metadata": {
        "id": "1ngPftIFB03V"
      },
      "source": [
        "❓ Let's go to the [Playground](https://playground.tensorflow.org/#activation=tanh&batchSize=10&dataset=spiral&regDataset=reg-plane&learningRate=0.03&regularizationRate=0&noise=0&networkShape=2&seed=0.23545&showTestData=false&discretize=false&percTrainData=70&x=true&y=true&xTimesY=false&xSquared=false&ySquared=false&cosX=false&sinX=false&cosY=false&sinY=false&collectStats=false&problem=classification&initZero=false&hideText=false&regularization_hide=true&showTestData_hide=false&stepButton_hide=false&activation_hide=false&problem_hide=false&batchSize_hide=true&dataset_hide=false&resetButton_hide=false&discretize_hide=false&playButton_hide=false&learningRate_hide=true&regularizationRate_hide=true&percTrainData_hide=false&numHiddenLayers_hide=false) and select the following type of data ❓\n",
        "\n",
        "- A classification problem\n",
        "- The circle dataset (<span style=\"color:blue\">blue dots</span> inside a circle of <span style=\"color:orange\">orange dots</span>)\n",
        "- Ratio of training to test data : $ 70 \\% $\n",
        "- No noise ($ = 0$)\n",
        "- Do not show test data (right panel)\n",
        "- Do not discretize the output\n",
        "- Activation function: ***ReLU***\n",
        "\n",
        "<details>\n",
        "    <summary><i> Why Relu? </i></summary>\n",
        "        \n",
        "💡 In general, try it by default. It appears to work better for many problems!\n",
        "    \n",
        "_Note: Playground only allows you to select **one** activation function that is used for **all** of the **hidden** layers_\n",
        "\n",
        "</details>"
      ]
    },
    {
      "cell_type": "markdown",
      "metadata": {
        "id": "Plig9ftkB03W"
      },
      "source": [
        "### (2) The features"
      ]
    },
    {
      "cell_type": "markdown",
      "metadata": {
        "id": "PcssBB-iB03W"
      },
      "source": [
        "❓ <u>Questions about the features</u> ❓\n",
        "\n",
        "1. Select only the features $X_1$ and $X_2$ (_unselect the other features if necessary_)\n",
        "2. If you were using the other variables such as $X_1^{2}$, $X_2^{2}$, $X_1 X_2$, $sin(X_1)$ and $sin(X_2)$, what type of classic Machine Learning operation does it correspond to?"
      ]
    },
    {
      "cell_type": "markdown",
      "metadata": {
        "tags": [
          "challengify"
        ],
        "id": "OMS89jAOB03W"
      },
      "source": [
        "> Feature engineering"
      ]
    },
    {
      "cell_type": "markdown",
      "metadata": {
        "id": "hiYCGc37B03W"
      },
      "source": [
        "<details>\n",
        "    <summary><i>Answer</i></summary>\n",
        "\n",
        "* It corresponds to some type of ***feature engineering*** where you transform them.\n",
        "    * <i>Examples: multiplication, sinus, square, ...</i>\n",
        "* Here, in this exercise but also tomorrow, we will only use the raw input features $X_1$ and $X_2$.\n",
        "</details>\n",
        "\n"
      ]
    },
    {
      "cell_type": "markdown",
      "metadata": {
        "id": "NqNyJdnBB03W"
      },
      "source": [
        "### (3) Building and Fitting a Neural Network in ***Playground***"
      ]
    },
    {
      "cell_type": "markdown",
      "metadata": {
        "id": "blt1u6f-B03X"
      },
      "source": [
        "❓ <u>Questions about Neural Networks</u> ❓\n",
        "\n",
        "* 🧠 Build a model with the following architecture:\n",
        "    - three hidden layers\n",
        "    - 5 neurons on the first hidden layer\n",
        "    - 4 neurons on the second hidden layer\n",
        "    - 3 neurons on the last hidden layer\n",
        "    - In ***Playground***, the output layer is not represented:\n",
        "        - For such binary classification task, keep in mind that it will automatically be a dense layer with 1 neuron activated by the sigmoid function $ \\large \\phi(z) = \\frac{1}{1 + e^{-z}} $\n",
        "\n",
        "* 💪 ***Fit it and stop the iterations when the loss function has stabilized.***\n",
        "\n",
        "* 👀 Observe carefully:\n",
        "    - Look at the individual neurons and try to understand what each neuron has specialized for during the _.fit()_\n",
        "    - What do you think about the overall shape your results? Re-run the neural network with different activation functions to compare. Can you make it work with \"Linear\"?"
      ]
    },
    {
      "cell_type": "markdown",
      "metadata": {
        "id": "1HE700W3B03X"
      },
      "source": [
        "<details>\n",
        "    <summary>Answer: some insights about the activation functions</summary>\n",
        "\n",
        "- Results may look like a hexagon because ReLu is piece-wise linear!\n",
        "- A non-linearly separable problem cannot be fitted with a linear activation such as **Linear**\n",
        "- Surprisingly, a piece-wise linear activation function such as **ReLu** (or **LeakyReLu**) fits this non-linearly separable problem well (even if that is not always true)\n",
        "- The `tanh` activation gives a \"smoother\" decision boundary\n",
        "- The **sigmoid** does **not** seem to work well here.\n",
        "    \n",
        "🧑🏻‍🏫 Always start with ReLu, it's a safe bet 🧑🏻‍🏫!\n",
        "</details>\n",
        "\n"
      ]
    },
    {
      "cell_type": "markdown",
      "metadata": {
        "id": "g8WTRNbiB03X"
      },
      "source": [
        "### (4) Building and Fitting a Neural Network in ***Tensorflow.Keras***"
      ]
    },
    {
      "cell_type": "markdown",
      "metadata": {
        "id": "NGPxpmrQB03X"
      },
      "source": [
        "👇 We wrote the same model for you - at least the architecture - in Tensorflow's Keras"
      ]
    },
    {
      "cell_type": "code",
      "execution_count": 2,
      "metadata": {
        "id": "1_dCgAAAB03Z"
      },
      "outputs": [],
      "source": [
        "from tensorflow.keras import models\n",
        "from tensorflow.keras import layers\n",
        "\n",
        "model = models.Sequential()\n",
        "\n",
        "model.add(layers.Dense(5, activation='relu', input_dim=2)) # 1st hidden layer with 5 neurons\n",
        "model.add(layers.Dense(4, activation='relu')) # 2nd hidden layer with 4 neurons\n",
        "model.add(layers.Dense(3, activation='relu')) # 3rd hidden layer with 3 neurons\n",
        "\n",
        "\n",
        "\n",
        "model.add(layers.Dense(1, activation='sigmoid')) # Output layer that outputs a probability of belonging\n",
        "                                                 # to the class of \"success\"\n"
      ]
    },
    {
      "cell_type": "markdown",
      "metadata": {
        "id": "fKkVPmCMB03Z"
      },
      "source": [
        "<details>\n",
        "    <summary><i>What to understand about the code of a Neural Network? </i>👆</summary>\n",
        "\n",
        "- <u>First Hidden Layer a.k.a ***Input Layer***</u>:\n",
        "    - Every datapoint that will be input to the neural network has two features $ X = \\begin{bmatrix}\n",
        "           X_{1} \\\\\n",
        "           X_{2} \\\\\n",
        "         \\end{bmatrix} $.\n",
        "    - You need to inform your Neural Network about the ***number of input features*** through the ***`input_dim` argument***\n",
        "    - A Neural Network tries to mimic the human brain. Here we would like to use 5 neurons to start analyzing each of these points.\n",
        "    \n",
        "    - Every datapoint goes through the first hidden layer which was built using 5 neurons $ layer_1 = \\begin{bmatrix}\n",
        "           a_{1} \\\\\n",
        "           a_{2} \\\\\n",
        "           a_{3} \\\\\n",
        "           a_{4} \\\\\n",
        "           a_{5} \\\\           \n",
        "         \\end{bmatrix} $\n",
        "    \n",
        " - <u>Second Hidden Layer</u>:\n",
        "         \n",
        "    - What if we want to ***make the information flow*** through a second hidden layer with 4 neurons? It is totally possible!\n",
        "    - These 4 neurons $ layer_2 = \\begin{bmatrix}\n",
        "           b_{1} \\\\\n",
        "           b_{2} \\\\\n",
        "           b_{3} \\\\\n",
        "           b_{4} \\\\\n",
        "         \\end{bmatrix} $ from the second layer will analyze the output from the 5 neurons in the first layer\n",
        "    \n",
        "- <u>Third Hidden Layer</u>:\n",
        "        - What if we want the information to **continue to flow** through a third hidden layer with 3 neurons? Again, totally possible!\n",
        "\n",
        "    - Every neuron's output from the second layer goes through the third hidden layer which was built using 3 neurons $ layer_3 = \\begin{bmatrix}\n",
        "           c_{1} \\\\\n",
        "           c_{2} \\\\\n",
        "           c_{3}\n",
        "         \\end{bmatrix} $\n",
        "         \n",
        "    - These 3 neurons analyze the outputs of the neurons in $ layer_2  $ !\n",
        "\n",
        "- <u>Predictive Layer</u>\n",
        "    - You are dealing with a binary classification task\n",
        "    - We could use two neurons to predict the probability of belonging to class A or class B...\n",
        "    - But one neuron predicting the probability of \"success\" is enough\n",
        "\n",
        "- <u>About activation functions</u>\n",
        "    - Despite its simplicity, the ***ReLU*** has proven to be very effective to add some non-linearity to the layers\n",
        "    - For the predictive layer, the best activation function to use for a classification task is the ***sigmoid*** function. That is something we've already discussed during Decision Science and Machine Learning.\n",
        "\n",
        "- <u>About the Sequential aspect of the Network</u>:\n",
        "    - The fact that you are defining a **Sequential** model has a consequence: each layer is aware of its input size based on the output size of the previous layer!\n",
        "    \n",
        "</details>"
      ]
    },
    {
      "cell_type": "markdown",
      "metadata": {
        "id": "8tdrFBx5B03Z"
      },
      "source": [
        "❓ How many parameters are involved in this small Neural Network ❓"
      ]
    },
    {
      "cell_type": "code",
      "execution_count": 4,
      "metadata": {
        "tags": [
          "challengify"
        ],
        "colab": {
          "base_uri": "https://localhost:8080/"
        },
        "id": "wJ1FUAEWB03a",
        "outputId": "f12a30c7-d701-417d-c717-072c0f1832a0"
      },
      "outputs": [
        {
          "output_type": "execute_result",
          "data": {
            "text/plain": [
              "58"
            ]
          },
          "metadata": {},
          "execution_count": 4
        }
      ],
      "source": [
        "# YOUR CODE HERE\n",
        "2*5 + 5 + 5*4 + 4 + 4*3 + 3 + 3*1 + 1"
      ]
    },
    {
      "cell_type": "markdown",
      "metadata": {
        "id": "yqdL-VFlB03a"
      },
      "source": [
        "<details>\n",
        "    <summary><i>Hint</i></summary>\n",
        "\n",
        "✅ You should have 58 parameters\n",
        "    \n",
        "❌ If not, double-check your architecture    \n",
        "</details>"
      ]
    },
    {
      "cell_type": "markdown",
      "metadata": {
        "id": "Na9fbQMVB03a"
      },
      "source": [
        "### (5) The XOR Dataset"
      ]
    },
    {
      "cell_type": "markdown",
      "metadata": {
        "id": "HQnptDLXB03a"
      },
      "source": [
        "❓ <u>Playing with the XOR Dataset</u> ❓\n",
        "\n",
        "* On Playground:\n",
        "    - Change the dataset to the \"XOR - Exclusive Or\".\n",
        "    - Try to design a model with two hidden layers that has a very small **test loss**\n",
        "        - Note: you are free to choose the number of neurons per layer yourself.  \n",
        "        \n",
        "* Coding with Tensorflow/Keras:\n",
        "    - Once you have built your model on Playground, code it down below with the Tensorflow/Keras library"
      ]
    },
    {
      "cell_type": "code",
      "execution_count": 10,
      "metadata": {
        "colab": {
          "base_uri": "https://localhost:8080/"
        },
        "id": "tueTLuDjB03a",
        "outputId": "9e579489-60e2-4b4e-f985-cacfb870bb5c"
      },
      "outputs": [
        {
          "output_type": "stream",
          "name": "stdout",
          "text": [
            "Model: \"sequential_6\"\n",
            "_________________________________________________________________\n",
            " Layer (type)                Output Shape              Param #   \n",
            "=================================================================\n",
            " dense_12 (Dense)            (None, 20)                60        \n",
            "                                                                 \n",
            " dense_13 (Dense)            (None, 10)                210       \n",
            "                                                                 \n",
            " dense_14 (Dense)            (None, 1)                 11        \n",
            "                                                                 \n",
            "=================================================================\n",
            "Total params: 281 (1.10 KB)\n",
            "Trainable params: 281 (1.10 KB)\n",
            "Non-trainable params: 0 (0.00 Byte)\n",
            "_________________________________________________________________\n"
          ]
        },
        {
          "output_type": "execute_result",
          "data": {
            "text/plain": [
              "<keras.src.callbacks.History at 0x7eb3dd7fff10>"
            ]
          },
          "metadata": {},
          "execution_count": 10
        }
      ],
      "source": [
        "# Neural Network that can be well fitted to the XOR Dataset\n",
        "from tensorflow.keras import Sequential\n",
        "from tensorflow.keras.layers import Dense\n",
        "#from tensorflow.keras.optimizers import Adam\n",
        "\n",
        "model1 = Sequential()\n",
        "\n",
        "model1 = Sequential()\n",
        "model1.add(layers.Dense(20, activation='relu', input_dim=2))\n",
        "model1.add(layers.Dense(10, activation='relu'))\n",
        "model1.add(layers.Dense(1, activation='sigmoid'))\n",
        "model.summary()\n",
        "\n",
        "model1.compile(loss='binary_crossentropy', optimizer='adam',\n",
        "               metrics=['accuracy'])\n",
        "\n",
        "# XOR dataset\n",
        "\n",
        "import numpy as np\n",
        "\n",
        "X = np.array([[0, 0], [0, 1], [1, 0], [1, 1]])\n",
        "y = np.array([0, 1, 1, 0])\n",
        "\n",
        "model1.fit(X, y, epochs=1000, verbose=0)\n"
      ]
    },
    {
      "cell_type": "code",
      "source": [
        "model1.evaluate(X, y)\n",
        "# returns [loss, metrics]"
      ],
      "metadata": {
        "colab": {
          "base_uri": "https://localhost:8080/"
        },
        "id": "mGdhH2zYNjK8",
        "outputId": "cbce3e3e-536a-41aa-9d5e-4b4cd2aff37c"
      },
      "execution_count": 11,
      "outputs": [
        {
          "output_type": "stream",
          "name": "stdout",
          "text": [
            "1/1 [==============================] - 0s 150ms/step - loss: 0.0112 - accuracy: 1.0000\n"
          ]
        },
        {
          "output_type": "execute_result",
          "data": {
            "text/plain": [
              "[0.011227978393435478, 1.0]"
            ]
          },
          "metadata": {},
          "execution_count": 11
        }
      ]
    },
    {
      "cell_type": "code",
      "source": [
        "# 2 hidden layers that has very small test loss and test accuracy\n",
        "\n",
        "# Build the model\n",
        "model2 = models.Sequential()\n",
        "\n",
        "# Add the 2 hidden layers\n",
        "model2.add(layers.Dense(20, activation='relu', input_dim=2))\n",
        "model2.add(layers.Dense(10, activation='relu'))\n",
        "\n",
        "# Add the output layer\n",
        "model2.add(layers.Dense(1, activation='sigmoid'))\n",
        "model2.summary()\n",
        "\n",
        "# Compile the model\n",
        "model2.compile(optimizer='adam',\n",
        "              loss='binary_crossentropy',\n",
        "              metrics=['accuracy'])\n",
        "\n",
        "\n",
        "# XOR Dataset\n",
        "X = [[0, 0], [0, 1], [1, 0], [1, 1]]\n",
        "y = [0, 1, 1, 0]\n",
        "\n",
        "# Split the dataset into training and test sets\n",
        "X_train = X[:3]\n",
        "y_train = y[:3]\n",
        "X_test = X[3:]\n",
        "y_test = y[3:]\n",
        "\n",
        "\n",
        "# Train the model\n",
        "model2.fit(X_train, y_train, epochs=1000, batch_size=1, verbose=0)\n",
        "\n",
        "# Evaluate the model\n",
        "test_loss, test_acc = model2.evaluate(X_test, y_test)\n",
        "\n",
        "print('Test accuracy:', test_acc)\n",
        "print('Test loss:', test_loss)\n"
      ],
      "metadata": {
        "colab": {
          "base_uri": "https://localhost:8080/"
        },
        "id": "CqYEBBjVMPK1",
        "outputId": "d3d2e5e2-62cd-4ee2-dcc9-0fed2dbd1037"
      },
      "execution_count": 13,
      "outputs": [
        {
          "output_type": "stream",
          "name": "stdout",
          "text": [
            "Model: \"sequential_10\"\n",
            "_________________________________________________________________\n",
            " Layer (type)                Output Shape              Param #   \n",
            "=================================================================\n",
            " dense_21 (Dense)            (None, 20)                60        \n",
            "                                                                 \n",
            " dense_22 (Dense)            (None, 10)                210       \n",
            "                                                                 \n",
            " dense_23 (Dense)            (None, 1)                 11        \n",
            "                                                                 \n",
            "=================================================================\n",
            "Total params: 281 (1.10 KB)\n",
            "Trainable params: 281 (1.10 KB)\n",
            "Non-trainable params: 0 (0.00 Byte)\n",
            "_________________________________________________________________\n",
            "1/1 [==============================] - 0s 163ms/step - loss: 14.2557 - accuracy: 0.0000e+00\n",
            "Test accuracy: 0.0\n",
            "Test loss: 14.255678176879883\n"
          ]
        }
      ]
    },
    {
      "cell_type": "markdown",
      "metadata": {
        "id": "Ob7Ojh6pB03a"
      },
      "source": [
        "### (6) The Spiral Dataset"
      ]
    },
    {
      "cell_type": "markdown",
      "metadata": {
        "id": "8z-gydNnB03a"
      },
      "source": [
        "❓ <u>Playing with the Spiral Dataset</u> ❓\n",
        "\n",
        "* On Playground:\n",
        "    - Change the dataset to the \"Spiral\".\n",
        "    - Try to design a model with three hidden layers that has a very small **test loss**\n",
        "        - Note: you are free to choose the number of neurons per layer yourself.  \n",
        "        \n",
        "* Coding with Tensorflow/Keras:\n",
        "    - Once you have built your model on Playground, code it down  below with the Tensorflow/Keras library"
      ]
    },
    {
      "cell_type": "code",
      "source": [
        "N = 100 # number of points per class\n",
        "D = 2 # dimensionality\n",
        "K = 3 # number of classes\n",
        "X = np.zeros((N*K,D)) # data matrix (each row = single example)\n",
        "y = np.zeros(N*K, dtype='uint8') # class labels\n",
        "for j in range(K):\n",
        "  ix = range(N*j,N*(j+1))\n",
        "  r = np.linspace(0.0,1,N) # radius\n",
        "  t = np.linspace(j*4,(j+1)*4,N) + np.random.randn(N)*0.2 # theta\n",
        "  X[ix] = np.c_[r*np.sin(t), r*np.cos(t)]\n",
        "  y[ix] = j\n",
        "# lets visualize the data:\n",
        "plt.scatter(X[:, 0], X[:, 1], c=y, s=40, cmap=plt.cm.Spectral)\n",
        "plt.show()\n"
      ],
      "metadata": {
        "colab": {
          "base_uri": "https://localhost:8080/",
          "height": 430
        },
        "id": "YFOGEYK-Xbsr",
        "outputId": "8eb67293-a483-4c59-ed1d-f551958226b1"
      },
      "execution_count": 19,
      "outputs": [
        {
          "output_type": "display_data",
          "data": {
            "text/plain": [
              "<Figure size 640x480 with 1 Axes>"
            ],
            "image/png": "[encoded data removed]"
          },
          "metadata": {}
        }
      ]
    },
    {
      "cell_type": "code",
      "execution_count": 20,
      "metadata": {
        "colab": {
          "base_uri": "https://localhost:8080/"
        },
        "id": "SLkWh9pYB03b",
        "outputId": "1da317db-1350-4c2b-b703-eca27f651dda"
      },
      "outputs": [
        {
          "output_type": "stream",
          "name": "stdout",
          "text": [
            "Model: \"sequential_14\"\n",
            "_________________________________________________________________\n",
            " Layer (type)                Output Shape              Param #   \n",
            "=================================================================\n",
            " dense_33 (Dense)            (None, 8)                 24        \n",
            "                                                                 \n",
            " dense_34 (Dense)            (None, 7)                 63        \n",
            "                                                                 \n",
            " dense_35 (Dense)            (None, 4)                 32        \n",
            "                                                                 \n",
            " dense_36 (Dense)            (None, 1)                 5         \n",
            "                                                                 \n",
            "=================================================================\n",
            "Total params: 124 (496.00 Byte)\n",
            "Trainable params: 124 (496.00 Byte)\n",
            "Non-trainable params: 0 (0.00 Byte)\n",
            "_________________________________________________________________\n",
            "Epoch 1/20\n",
            "15/15 [==============================] - 2s 6ms/step - loss: 0.8591 - accuracy: 0.3289\n",
            "Epoch 2/20\n",
            "15/15 [==============================] - 0s 5ms/step - loss: 0.7966 - accuracy: 0.2933\n",
            "Epoch 3/20\n",
            "15/15 [==============================] - 0s 4ms/step - loss: 0.7504 - accuracy: 0.2889\n",
            "Epoch 4/20\n",
            "15/15 [==============================] - 0s 5ms/step - loss: 0.7098 - accuracy: 0.3511\n",
            "Epoch 5/20\n",
            "15/15 [==============================] - 0s 5ms/step - loss: 0.6808 - accuracy: 0.3689\n",
            "Epoch 6/20\n",
            "15/15 [==============================] - 0s 4ms/step - loss: 0.6578 - accuracy: 0.3956\n",
            "Epoch 7/20\n",
            "15/15 [==============================] - 0s 4ms/step - loss: 0.6366 - accuracy: 0.4044\n",
            "Epoch 8/20\n",
            "15/15 [==============================] - 0s 3ms/step - loss: 0.6121 - accuracy: 0.4089\n",
            "Epoch 9/20\n",
            "15/15 [==============================] - 0s 4ms/step - loss: 0.5886 - accuracy: 0.4044\n",
            "Epoch 10/20\n",
            "15/15 [==============================] - 0s 5ms/step - loss: 0.5620 - accuracy: 0.3333\n",
            "Epoch 11/20\n",
            "15/15 [==============================] - 0s 5ms/step - loss: 0.5306 - accuracy: 0.3289\n",
            "Epoch 12/20\n",
            "15/15 [==============================] - 0s 5ms/step - loss: 0.5020 - accuracy: 0.3289\n",
            "Epoch 13/20\n",
            "15/15 [==============================] - 0s 4ms/step - loss: 0.4679 - accuracy: 0.3333\n",
            "Epoch 14/20\n",
            "15/15 [==============================] - 0s 4ms/step - loss: 0.4373 - accuracy: 0.3333\n",
            "Epoch 15/20\n",
            "15/15 [==============================] - 0s 5ms/step - loss: 0.4059 - accuracy: 0.3333\n",
            "Epoch 16/20\n",
            "15/15 [==============================] - 0s 5ms/step - loss: 0.3690 - accuracy: 0.3333\n",
            "Epoch 17/20\n",
            "15/15 [==============================] - 0s 6ms/step - loss: 0.3311 - accuracy: 0.3333\n",
            "Epoch 18/20\n",
            "15/15 [==============================] - 0s 4ms/step - loss: 0.2927 - accuracy: 0.3333\n",
            "Epoch 19/20\n",
            "15/15 [==============================] - 0s 5ms/step - loss: 0.2472 - accuracy: 0.3333\n",
            "Epoch 20/20\n",
            "15/15 [==============================] - 0s 3ms/step - loss: 0.2075 - accuracy: 0.3333\n",
            "3/3 [==============================] - 0s 6ms/step - loss: 0.4065 - accuracy: 0.3333\n"
          ]
        },
        {
          "output_type": "execute_result",
          "data": {
            "text/plain": [
              "[0.4064905643463135, 0.3333333432674408]"
            ]
          },
          "metadata": {},
          "execution_count": 20
        }
      ],
      "source": [
        "# Neural Network that can be well fitted to the Spiral Dataset\n",
        "\n",
        "from sklearn.model_selection import train_test_split\n",
        "import numpy as np\n",
        "\n",
        "\n",
        "# Train test split\n",
        "X_train, X_test, y_train, y_test = train_test_split(X, y, test_size=0.25,\n",
        "                                                    random_state=3)\n",
        "# Standardize\n",
        "from sklearn.preprocessing import StandardScaler\n",
        "scaler = StandardScaler()\n",
        "X_train = scaler.fit_transform(X_train)\n",
        "\n",
        "# Build the model\n",
        "model_spiral = models.Sequential([\n",
        "    # First hidden layer\n",
        "    layers.Dense(8, activation='relu', input_shape=(2,)),\n",
        "    # Second hidden layer\n",
        "    layers.Dense(7, activation='relu'),\n",
        "    # Third hidden layer\n",
        "    layers.Dense(4, activation='relu'),\n",
        "    # Output layer\n",
        "    layers.Dense(1, activation='sigmoid')\n",
        "])\n",
        "# Compile the model\n",
        "model_spiral.compile(optimizer='adam', loss='binary_crossentropy', metrics=['accuracy'])\n",
        "\n",
        "# Display the model's architecture\n",
        "model_spiral.summary()\n",
        "\n",
        "model_spiral.fit(X_train, y_train, batch_size=16, epochs=20)\n",
        "\n",
        "\n",
        "model_spiral.evaluate(scaler.transform(X_test), y_test)\n",
        "# returns [loss, metrics]\n"
      ]
    },
    {
      "cell_type": "markdown",
      "metadata": {
        "id": "wK2ruvD9B03b"
      },
      "source": [
        "### (7) How Deep should a Neural Network be ?"
      ]
    },
    {
      "cell_type": "markdown",
      "metadata": {
        "id": "C92STkjkB03b"
      },
      "source": [
        "👀 If you compare the number of parameters needed to fit the Spiral Dataset vs. the XOR dataset, the former requires many more weights....\n",
        "\n",
        "😃 Actually, if your models are deep enough, you could potentially fit pretty much any pattern...\n",
        "\n",
        "---\n",
        "\n",
        "<details>\n",
        "    <summary><i>Should I create Very Deep Neural Networks? </i></summary>\n",
        "        \n",
        "<u>Examples:</u>\n",
        "    \n",
        "* Think about a human being. The more this person spends time coding in Python, the better he/she will get better at it!\n",
        "    \n",
        "* Think about a student. The more this person studies, the better he/she will pass exams. But sometimes students can study \"too much\" about a topic and forget about the global picture of a course....\n",
        "    \n",
        "<u>Lessons</u>\n",
        "    \n",
        "🧠 For Deep Learning Models, the more layers they have, the more opportunities they will have to learn the patterns in the data...\n",
        "\n",
        "❗️ The problem is about avoiding **overfitting** ❗️\n",
        "    \n",
        "☠️ Add a good deal of noise and you _may_ see that your model will have learned \"too much\" about this noise.\n",
        "  \n",
        "    \n",
        "📆 The next lecture **Deep Learning > Optimizers, Loss, & Fitting** is dedicated to helping you understand which techniques we can use to prevent Deep Learning models from overfitting.\n",
        "\n",
        "</details>\n",
        "\n",
        "---\n",
        "\n",
        "<details>\n",
        "    <summary><i>A picture of overfitting in Playground</i></summary>\n",
        "    \n",
        "<img src='https://wagon-public-datasets.s3.amazonaws.com/data-science-images/DL/playground-overfitting.png' width=700 style='margin:auto'>\n",
        "</details>\n",
        "\n",
        "---"
      ]
    },
    {
      "cell_type": "markdown",
      "metadata": {
        "id": "W4gfKulgB03b"
      },
      "source": [
        "## Regression in Deep Learning"
      ]
    },
    {
      "cell_type": "markdown",
      "metadata": {
        "id": "P9AyToYWB03b"
      },
      "source": [
        "<u>Let's try to complete a Regression Task using Deep Learning</u>\n",
        "\n",
        "\n",
        "This time, the last layer will no longer look like:  \n",
        "```python\n",
        "model.add(layers.Dense(1, activation='sigmoid'))\n",
        "```\n",
        "\n",
        "but instead  :\n",
        "```python\n",
        "model.add(layers.Dense(1, activation='linear'))\n",
        "```\n",
        "\n",
        "This means that the output of this network is no longer between $0$ and $1$ (probability) but between $ -\\infty$ and $+ \\infty$."
      ]
    },
    {
      "cell_type": "markdown",
      "metadata": {
        "id": "pDOPmz_BB03c"
      },
      "source": [
        "❓ <u>Playing with the Regression Dataset</u> ❓\n",
        "\n",
        "* On Playground:\n",
        "    - Change the dataset to the \"Regression\".\n",
        "    - Try to design a model that has a very small **test loss**\n",
        "        - Note: you are free to choose both the number of layers and the number of neurons per layer yourself\n",
        "        \n",
        "* Coding with Tensorflow/Keras:\n",
        "    - Once you have built your model on Playground, code it down  below with the Tensorflow/Keras library"
      ]
    },
    {
      "cell_type": "code",
      "execution_count": 17,
      "metadata": {
        "colab": {
          "base_uri": "https://localhost:8080/"
        },
        "id": "t9w5xSg9B03c",
        "outputId": "6971d46b-f50c-4cc8-e5c6-41d4cfe2c154"
      },
      "outputs": [
        {
          "output_type": "stream",
          "name": "stdout",
          "text": [
            "Model: \"sequential_13\"\n",
            "_________________________________________________________________\n",
            " Layer (type)                Output Shape              Param #   \n",
            "=================================================================\n",
            " dense_30 (Dense)            (None, 64)                192       \n",
            "                                                                 \n",
            " dense_31 (Dense)            (None, 64)                4160      \n",
            "                                                                 \n",
            " dense_32 (Dense)            (None, 1)                 65        \n",
            "                                                                 \n",
            "=================================================================\n",
            "Total params: 4417 (17.25 KB)\n",
            "Trainable params: 4417 (17.25 KB)\n",
            "Non-trainable params: 0 (0.00 Byte)\n",
            "_________________________________________________________________\n",
            "Epoch 1/10\n",
            "25/25 [==============================] - 1s 4ms/step - loss: 0.1639\n",
            "Epoch 2/10\n",
            "25/25 [==============================] - 0s 4ms/step - loss: 0.1011\n",
            "Epoch 3/10\n",
            "25/25 [==============================] - 0s 4ms/step - loss: 0.0717\n",
            "Epoch 4/10\n",
            "25/25 [==============================] - 0s 4ms/step - loss: 0.0453\n",
            "Epoch 5/10\n",
            "25/25 [==============================] - 0s 5ms/step - loss: 0.0214\n",
            "Epoch 6/10\n",
            "25/25 [==============================] - 0s 4ms/step - loss: 0.0058\n",
            "Epoch 7/10\n",
            "25/25 [==============================] - 0s 3ms/step - loss: 8.9374e-04\n",
            "Epoch 8/10\n",
            "25/25 [==============================] - 0s 4ms/step - loss: 4.3744e-04\n",
            "Epoch 9/10\n",
            "25/25 [==============================] - 0s 5ms/step - loss: 2.9424e-04\n",
            "Epoch 10/10\n",
            "25/25 [==============================] - 0s 4ms/step - loss: 2.2227e-04\n",
            "7/7 [==============================] - 0s 4ms/step - loss: 2.1417e-04\n",
            "Test Loss: 0.00021416672097984701\n"
          ]
        }
      ],
      "source": [
        "# Neural Network that can be well fitted to the Regression Dataset\n",
        "\n",
        "import numpy as np\n",
        "from sklearn.model_selection import train_test_split\n",
        "\n",
        "# Number of samples in the dataset\n",
        "num_samples = 1000\n",
        "\n",
        "# Generate random x and y coordinates for the entire dataset\n",
        "x = np.random.uniform(-1, 1, num_samples)\n",
        "y = np.random.uniform(-1, 1, num_samples)\n",
        "\n",
        "# Combine x and y into a single array\n",
        "data = np.column_stack((x, y))\n",
        "\n",
        "# Generate target values with a Gaussian distribution\n",
        "targets = np.exp(-np.square(x) - np.square(y))\n",
        "\n",
        "# Split the data into training and testing sets (80% train, 20% test)\n",
        "train_data, test_data, train_targets, test_targets = train_test_split(data, targets, test_size=0.2)\n",
        "\n",
        "#################################\n",
        "import tensorflow as tf\n",
        "from tensorflow.keras import layers, models\n",
        "\n",
        "model3 = models.Sequential([\n",
        "    layers.Dense(64, activation='relu', input_shape=(2,)),  # 2 input features (x, y)\n",
        "    layers.Dense(64, activation='relu'),\n",
        "    layers.Dense(1, activation='linear')  # Single output neuron for regression\n",
        "])\n",
        "\n",
        "model3.compile(optimizer='adam', loss='mean_squared_error')\n",
        "\n",
        "# Display the model's architecture\n",
        "model3.summary()\n",
        "\n",
        "model3.fit(train_data, train_targets, epochs=10, batch_size=32)\n",
        "\n",
        "test_loss = model3.evaluate(test_data, test_targets)\n",
        "\n",
        "print(\"Test Loss:\", test_loss)\n"
      ]
    },
    {
      "cell_type": "markdown",
      "metadata": {
        "id": "ROG2e9pmB03c"
      },
      "source": [
        "🏁 You are now ready to do the same things with Tensorflow's Keras directly!\n",
        "\n",
        "💪 This was a Warm-Up about Neural Networks / Deep Learning Models... (even if, admittedly, our networks in this challenge were not so \"deep\").\n",
        "\n",
        "\n",
        "💾 Don't forget to `git add/commit/push` your notebook...\n",
        "\n",
        "🚀 ... and move on to the next challenge!"
      ]
    }
  ],
  "metadata": {
    "kernelspec": {
      "display_name": "Python 3",
      "language": "python",
      "name": "python3"
    },
    "language_info": {
      "codemirror_mode": {
        "name": "ipython",
        "version": 3
      },
      "file_extension": ".py",
      "mimetype": "text/x-python",
      "name": "python",
      "nbconvert_exporter": "python",
      "pygments_lexer": "ipython3",
      "version": "3.10.6"
    },
    "colab": {
      "provenance": []
    }
  },
  "nbformat": 4,
  "nbformat_minor": 0
}